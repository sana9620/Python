{
 "cells": [
  {
   "cell_type": "markdown",
   "metadata": {},
   "source": [
    " Write a function so that the columns of the output matrix are powers of the input vector. The order of the powers is determined by the increasing boolean argument. Specifically, when increasing is False, the i-th output column is the input vector raised element-wise to the power of N - i - 1.\n",
    "\n",
    "HINT: Such a matrix with a geometric progression in each row is named for Alexandre- Theophile Vandermonde."
   ]
  },
  {
   "cell_type": "code",
   "execution_count": 1,
   "metadata": {},
   "outputs": [],
   "source": [
    "def func_generate_matrix(inputvector,n,increasing = False):\n",
    "    if not increasing:\n",
    "        output_matrix = np.array([i**(n-j-1) for i in inputvector for j in range(n)]).reshape(inputvector.size,n)\n",
    "    else:\n",
    "        output_matrix = np.array([i**j for i in inputvector for j in range(n)]).reshape(inputvector.size,n)\n",
    "    return output_matrix"
   ]
  },
  {
   "cell_type": "code",
   "execution_count": 2,
   "metadata": {},
   "outputs": [
    {
     "name": "stdout",
     "output_type": "stream",
     "text": [
      "The length of the output matrix is :  3 \n",
      "\n",
      "The output of the matrix in the decreasing order of powers : \n",
      "  [[ 1  1  1]\n",
      " [ 4  2  1]\n",
      " [ 9  3  1]\n",
      " [16  4  1]\n",
      " [25  5  1]] \n",
      "\n",
      "The output of the matrix in the increasing order of powers : \n",
      " [[ 1  1  1]\n",
      " [ 1  2  4]\n",
      " [ 1  3  9]\n",
      " [ 1  4 16]\n",
      " [ 1  5 25]] \n",
      "\n"
     ]
    }
   ],
   "source": [
    "import numpy as np\n",
    "input_vector = np.array([1,2,3,4,5])\n",
    "output_matrix_len = 3\n",
    "output_matrix_desc_order = func_generate_matrix(input_vector,output_matrix_len,False)\n",
    "output_matrix_inc_order = func_generate_matrix(input_vector,output_matrix_len,True)\n",
    "print(\"The length of the output matrix is : \",output_matrix_len, \"\\n\")\n",
    "print(\"The output of the matrix in the decreasing order of powers : \\n \", output_matrix_desc_order, \"\\n\")\n",
    "print(\"The output of the matrix in the increasing order of powers : \\n\", output_matrix_inc_order, \"\\n\")\n"
   ]
  },
  {
   "cell_type": "markdown",
   "metadata": {},
   "source": [
    " Write a function to find moving average in an array over a window: Test it over [3, 5, 7, 2, 8, 10, 11, 65, 72, 81, 99, 100, 150] and window of 3."
   ]
  },
  {
   "cell_type": "code",
   "execution_count": 4,
   "metadata": {},
   "outputs": [],
   "source": [
    "def calculate_mov_avg(inputarray,N):\n",
    "    cumsum=[0]\n",
    "    mov_avg = []\n",
    "    for i,x in enumerate(inputarray,1):\n",
    "        cumsum.append(cumsum[i-1]+x)\n",
    "        if i>=N:\n",
    "            movavg = round(((cumsum[i]-cumsum[i-N])/N),2)\n",
    "            mov_avg.append(movavg)\n",
    "    return mov_avg"
   ]
  },
  {
   "cell_type": "code",
   "execution_count": 5,
   "metadata": {},
   "outputs": [
    {
     "data": {
      "text/plain": [
       "[5.0, 4.67, 5.67, 6.67, 9.67, 28.67, 49.33, 72.67, 84.0, 93.33, 116.33]"
      ]
     },
     "execution_count": 5,
     "metadata": {},
     "output_type": "execute_result"
    }
   ],
   "source": [
    "input = np.array([3, 5, 7, 2, 8, 10, 11, 65, 72, 81, 99, 100, 150])\n",
    "calculate_mov_avg(input,3)"
   ]
  }
 ],
 "metadata": {
  "kernelspec": {
   "display_name": "Python 3",
   "language": "python",
   "name": "python3"
  },
  "language_info": {
   "codemirror_mode": {
    "name": "ipython",
    "version": 3
   },
   "file_extension": ".py",
   "mimetype": "text/x-python",
   "name": "python",
   "nbconvert_exporter": "python",
   "pygments_lexer": "ipython3",
   "version": "3.7.4"
  }
 },
 "nbformat": 4,
 "nbformat_minor": 2
}
